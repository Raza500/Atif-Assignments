{
 "cells": [
  {
   "cell_type": "code",
   "execution_count": 1,
   "metadata": {},
   "outputs": [],
   "source": [
    "import pandas as pd"
   ]
  },
  {
   "cell_type": "code",
   "execution_count": 2,
   "metadata": {
    "scrolled": true
   },
   "outputs": [
    {
     "data": {
      "text/html": [
       "<div>\n",
       "<style scoped>\n",
       "    .dataframe tbody tr th:only-of-type {\n",
       "        vertical-align: middle;\n",
       "    }\n",
       "\n",
       "    .dataframe tbody tr th {\n",
       "        vertical-align: top;\n",
       "    }\n",
       "\n",
       "    .dataframe thead th {\n",
       "        text-align: right;\n",
       "    }\n",
       "</style>\n",
       "<table border=\"1\" class=\"dataframe\">\n",
       "  <thead>\n",
       "    <tr style=\"text-align: right;\">\n",
       "      <th></th>\n",
       "      <th>company</th>\n",
       "      <th>prd_line</th>\n",
       "      <th>product</th>\n",
       "      <th>customer</th>\n",
       "      <th>profit</th>\n",
       "      <th>revenue</th>\n",
       "      <th>year</th>\n",
       "    </tr>\n",
       "  </thead>\n",
       "  <tbody>\n",
       "    <tr>\n",
       "      <th>0</th>\n",
       "      <td>A</td>\n",
       "      <td>Phone</td>\n",
       "      <td>Prepaid</td>\n",
       "      <td>5070</td>\n",
       "      <td>1400</td>\n",
       "      <td>24000</td>\n",
       "      <td>2017</td>\n",
       "    </tr>\n",
       "    <tr>\n",
       "      <th>1</th>\n",
       "      <td>A</td>\n",
       "      <td>Phone</td>\n",
       "      <td>Postpaid</td>\n",
       "      <td>6670</td>\n",
       "      <td>5200</td>\n",
       "      <td>85200</td>\n",
       "      <td>2017</td>\n",
       "    </tr>\n",
       "    <tr>\n",
       "      <th>2</th>\n",
       "      <td>A</td>\n",
       "      <td>Phone</td>\n",
       "      <td>Landline</td>\n",
       "      <td>3760</td>\n",
       "      <td>2653</td>\n",
       "      <td>22653</td>\n",
       "      <td>2017</td>\n",
       "    </tr>\n",
       "    <tr>\n",
       "      <th>3</th>\n",
       "      <td>A</td>\n",
       "      <td>Internet</td>\n",
       "      <td>Broadband</td>\n",
       "      <td>723</td>\n",
       "      <td>996</td>\n",
       "      <td>1996</td>\n",
       "      <td>2017</td>\n",
       "    </tr>\n",
       "    <tr>\n",
       "      <th>4</th>\n",
       "      <td>A</td>\n",
       "      <td>Internet</td>\n",
       "      <td>4G</td>\n",
       "      <td>810</td>\n",
       "      <td>296</td>\n",
       "      <td>2996</td>\n",
       "      <td>2017</td>\n",
       "    </tr>\n",
       "    <tr>\n",
       "      <th>5</th>\n",
       "      <td>A</td>\n",
       "      <td>Internet</td>\n",
       "      <td>3G</td>\n",
       "      <td>1243</td>\n",
       "      <td>496</td>\n",
       "      <td>4996</td>\n",
       "      <td>2017</td>\n",
       "    </tr>\n",
       "    <tr>\n",
       "      <th>6</th>\n",
       "      <td>A</td>\n",
       "      <td>Phone</td>\n",
       "      <td>Prepaid</td>\n",
       "      <td>2970</td>\n",
       "      <td>1867</td>\n",
       "      <td>8867</td>\n",
       "      <td>2018</td>\n",
       "    </tr>\n",
       "    <tr>\n",
       "      <th>7</th>\n",
       "      <td>A</td>\n",
       "      <td>Phone</td>\n",
       "      <td>Postpaid</td>\n",
       "      <td>670</td>\n",
       "      <td>943</td>\n",
       "      <td>4043</td>\n",
       "      <td>2018</td>\n",
       "    </tr>\n",
       "    <tr>\n",
       "      <th>8</th>\n",
       "      <td>A</td>\n",
       "      <td>Phone</td>\n",
       "      <td>Landline</td>\n",
       "      <td>7670</td>\n",
       "      <td>5705</td>\n",
       "      <td>13705</td>\n",
       "      <td>2018</td>\n",
       "    </tr>\n",
       "    <tr>\n",
       "      <th>9</th>\n",
       "      <td>A</td>\n",
       "      <td>Internet</td>\n",
       "      <td>Broadband</td>\n",
       "      <td>3670</td>\n",
       "      <td>1540</td>\n",
       "      <td>6540</td>\n",
       "      <td>2018</td>\n",
       "    </tr>\n",
       "    <tr>\n",
       "      <th>10</th>\n",
       "      <td>A</td>\n",
       "      <td>Internet</td>\n",
       "      <td>4G</td>\n",
       "      <td>670</td>\n",
       "      <td>580</td>\n",
       "      <td>1180</td>\n",
       "      <td>2018</td>\n",
       "    </tr>\n",
       "    <tr>\n",
       "      <th>11</th>\n",
       "      <td>A</td>\n",
       "      <td>Internet</td>\n",
       "      <td>3G</td>\n",
       "      <td>9670</td>\n",
       "      <td>7850</td>\n",
       "      <td>27850</td>\n",
       "      <td>2018</td>\n",
       "    </tr>\n",
       "  </tbody>\n",
       "</table>\n",
       "</div>"
      ],
      "text/plain": [
       "   company  prd_line    product  customer  profit  revenue  year\n",
       "0        A     Phone    Prepaid      5070    1400    24000  2017\n",
       "1        A     Phone   Postpaid      6670    5200    85200  2017\n",
       "2        A     Phone   Landline      3760    2653    22653  2017\n",
       "3        A  Internet  Broadband       723     996     1996  2017\n",
       "4        A  Internet         4G       810     296     2996  2017\n",
       "5        A  Internet         3G      1243     496     4996  2017\n",
       "6        A     Phone    Prepaid      2970    1867     8867  2018\n",
       "7        A     Phone   Postpaid       670     943     4043  2018\n",
       "8        A     Phone   Landline      7670    5705    13705  2018\n",
       "9        A  Internet  Broadband      3670    1540     6540  2018\n",
       "10       A  Internet         4G       670     580     1180  2018\n",
       "11       A  Internet         3G      9670    7850    27850  2018"
      ]
     },
     "execution_count": 2,
     "metadata": {},
     "output_type": "execute_result"
    }
   ],
   "source": [
    "inputfile = pd.read_csv('Company_Financial_KPI.CSV') # Reading Company financial KPI csv files.\n",
    "inputfile"
   ]
  },
  {
   "cell_type": "code",
   "execution_count": 3,
   "metadata": {},
   "outputs": [
    {
     "data": {
      "text/plain": [
       "0     A\n",
       "1     A\n",
       "2     A\n",
       "3     A\n",
       "4     A\n",
       "5     A\n",
       "6     A\n",
       "7     A\n",
       "8     A\n",
       "9     A\n",
       "10    A\n",
       "11    A\n",
       "Name: company, dtype: object"
      ]
     },
     "execution_count": 3,
     "metadata": {},
     "output_type": "execute_result"
    }
   ],
   "source": [
    "inputfile ['company']"
   ]
  },
  {
   "cell_type": "code",
   "execution_count": 4,
   "metadata": {},
   "outputs": [
    {
     "data": {
      "text/plain": [
       "company  year\n",
       "A        2017    141841\n",
       "         2018     62185\n",
       "Name: revenue, dtype: int64"
      ]
     },
     "execution_count": 4,
     "metadata": {},
     "output_type": "execute_result"
    }
   ],
   "source": [
    "total_revenue = inputfile['revenue'].groupby([inputfile['company'],inputfile['year']]).sum() # Grouping record according to Company and year so I can calculate Total Revenue.\n",
    "total_revenue"
   ]
  },
  {
   "cell_type": "code",
   "execution_count": 5,
   "metadata": {},
   "outputs": [
    {
     "data": {
      "text/plain": [
       "company  year\n",
       "A        2017    11041\n",
       "         2018    18485\n",
       "Name: profit, dtype: int64"
      ]
     },
     "execution_count": 5,
     "metadata": {},
     "output_type": "execute_result"
    }
   ],
   "source": [
    "total_profit = inputfile['profit'].groupby([inputfile['company'],inputfile['year']]).sum() # Grouping record according to Company and year so I can calculate Total profit.\n",
    "total_profit"
   ]
  },
  {
   "cell_type": "code",
   "execution_count": 6,
   "metadata": {},
   "outputs": [
    {
     "data": {
      "text/plain": [
       "company  year\n",
       "A        2017    18276\n",
       "         2018    25320\n",
       "Name: customer, dtype: int64"
      ]
     },
     "execution_count": 6,
     "metadata": {},
     "output_type": "execute_result"
    }
   ],
   "source": [
    "total_customer = inputfile['customer'].groupby([inputfile['company'],inputfile['year']]).sum() # Grouping record according to Company and year so I can calculate Total Customers.\n",
    "total_customer"
   ]
  },
  {
   "cell_type": "code",
   "execution_count": 7,
   "metadata": {},
   "outputs": [
    {
     "data": {
      "text/plain": [
       "prd_line  product    year\n",
       "Internet  3G         2017     496\n",
       "                     2018    7850\n",
       "          4G         2017     296\n",
       "                     2018     580\n",
       "          Broadband  2017     996\n",
       "                     2018    1540\n",
       "Phone     Landline   2017    2653\n",
       "                     2018    5705\n",
       "          Postpaid   2017    5200\n",
       "                     2018     943\n",
       "          Prepaid    2017    1400\n",
       "                     2018    1867\n",
       "Name: profit, dtype: int64"
      ]
     },
     "execution_count": 7,
     "metadata": {},
     "output_type": "execute_result"
    }
   ],
   "source": [
    "inputfile.sort_values(by=['profit'])\n",
    "product_line_profit = inputfile['profit'].groupby([inputfile['prd_line'],inputfile['product'],inputfile['year']]).max() \n",
    "product_line_profit  # Profit by product Line with filter on specific product"
   ]
  },
  {
   "cell_type": "code",
   "execution_count": 8,
   "metadata": {},
   "outputs": [
    {
     "data": {
      "text/plain": [
       "year\n",
       "2017    11041\n",
       "2018    18485\n",
       "Name: profit, dtype: int64"
      ]
     },
     "execution_count": 8,
     "metadata": {},
     "output_type": "execute_result"
    }
   ],
   "source": [
    "product_line_profit_by_year = inputfile['profit'].groupby([inputfile['year']]).sum() \n",
    "product_line_profit_by_year  # Grouping profit according to financial year."
   ]
  },
  {
   "cell_type": "code",
   "execution_count": 9,
   "metadata": {},
   "outputs": [
    {
     "data": {
      "text/plain": [
       "company\n",
       "A    204026\n",
       "Name: revenue, dtype: int64"
      ]
     },
     "execution_count": 9,
     "metadata": {},
     "output_type": "execute_result"
    }
   ],
   "source": [
    "Complete_revenue = inputfile['revenue'].groupby(inputfile['company']).sum() # Grouping record according to Company so I can calculate Total Revenue(including all years).\n",
    "Complete_revenue"
   ]
  },
  {
   "cell_type": "code",
   "execution_count": 10,
   "metadata": {},
   "outputs": [
    {
     "name": "stdout",
     "output_type": "stream",
     "text": [
      "Company performance is OK 11041 in the year 2017\n",
      "Company performance is GOOD 18485 in the year 2018\n"
     ]
    }
   ],
   "source": [
    "#profit_bad = 3000\n",
    "profit_ok = 9000\n",
    "profit_good = 18000\n",
    "\n",
    "for year, profit in product_line_profit_by_year.iteritems():\n",
    "    #print(year, profit)\n",
    "    if profit < profit_ok :\n",
    "        print('Company performance is BAD', profit, 'in the year', year)     \n",
    "    elif profit_ok < profit < profit_good:\n",
    "        print('Company performance is OK', profit ,'in the year', year)\n",
    "    elif profit > profit_good:\n",
    "        print('Company performance is GOOD', profit ,'in the year', year)\n"
   ]
  }
 ],
 "metadata": {
  "kernelspec": {
   "display_name": "Python 3",
   "language": "python",
   "name": "python3"
  },
  "language_info": {
   "codemirror_mode": {
    "name": "ipython",
    "version": 3
   },
   "file_extension": ".py",
   "mimetype": "text/x-python",
   "name": "python",
   "nbconvert_exporter": "python",
   "pygments_lexer": "ipython3",
   "version": "3.6.1"
  }
 },
 "nbformat": 4,
 "nbformat_minor": 2
}
